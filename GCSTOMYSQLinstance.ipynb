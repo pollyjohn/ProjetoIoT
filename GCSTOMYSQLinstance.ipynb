{
 "cells": [
  {
   "cell_type": "code",
   "execution_count": 2,
   "id": "8363ac8c-ce67-4c29-8cf0-1dc6075e15dc",
   "metadata": {
    "tags": []
   },
   "outputs": [
    {
     "name": "stdout",
     "output_type": "stream",
     "text": [
      "Collecting mysql\n",
      "  Downloading mysql-0.0.3-py3-none-any.whl.metadata (746 bytes)\n",
      "Collecting mysqlclient (from mysql)\n",
      "  Downloading mysqlclient-2.2.4.tar.gz (90 kB)\n",
      "  Installing build dependencies ... \u001b[?25ldone\n",
      "\u001b[?25h  Getting requirements to build wheel ... \u001b[?25lerror\n",
      "  \u001b[1;31merror\u001b[0m: \u001b[1msubprocess-exited-with-error\u001b[0m\n",
      "  \n",
      "  \u001b[31m×\u001b[0m \u001b[32mGetting requirements to build wheel\u001b[0m did not run successfully.\n",
      "  \u001b[31m│\u001b[0m exit code: \u001b[1;36m1\u001b[0m\n",
      "  \u001b[31m╰─>\u001b[0m \u001b[31m[24 lines of output]\u001b[0m\n",
      "  \u001b[31m   \u001b[0m Trying pkg-config --exists mysqlclient\n",
      "  \u001b[31m   \u001b[0m Command 'pkg-config --exists mysqlclient' returned non-zero exit status 1.\n",
      "  \u001b[31m   \u001b[0m Trying pkg-config --exists mariadb\n",
      "  \u001b[31m   \u001b[0m Command 'pkg-config --exists mariadb' returned non-zero exit status 1.\n",
      "  \u001b[31m   \u001b[0m Trying pkg-config --exists libmariadb\n",
      "  \u001b[31m   \u001b[0m Command 'pkg-config --exists libmariadb' returned non-zero exit status 1.\n",
      "  \u001b[31m   \u001b[0m Traceback (most recent call last):\n",
      "  \u001b[31m   \u001b[0m   File \"/opt/conda/lib/python3.10/site-packages/pip/_vendor/pyproject_hooks/_in_process/_in_process.py\", line 353, in <module>\n",
      "  \u001b[31m   \u001b[0m     main()\n",
      "  \u001b[31m   \u001b[0m   File \"/opt/conda/lib/python3.10/site-packages/pip/_vendor/pyproject_hooks/_in_process/_in_process.py\", line 335, in main\n",
      "  \u001b[31m   \u001b[0m     json_out['return_val'] = hook(**hook_input['kwargs'])\n",
      "  \u001b[31m   \u001b[0m   File \"/opt/conda/lib/python3.10/site-packages/pip/_vendor/pyproject_hooks/_in_process/_in_process.py\", line 118, in get_requires_for_build_wheel\n",
      "  \u001b[31m   \u001b[0m     return hook(config_settings)\n",
      "  \u001b[31m   \u001b[0m   File \"/var/tmp/pip-build-env-t8z7h0ym/overlay/lib/python3.10/site-packages/setuptools/build_meta.py\", line 332, in get_requires_for_build_wheel\n",
      "  \u001b[31m   \u001b[0m     return self._get_build_requires(config_settings, requirements=[])\n",
      "  \u001b[31m   \u001b[0m   File \"/var/tmp/pip-build-env-t8z7h0ym/overlay/lib/python3.10/site-packages/setuptools/build_meta.py\", line 302, in _get_build_requires\n",
      "  \u001b[31m   \u001b[0m     self.run_setup()\n",
      "  \u001b[31m   \u001b[0m   File \"/var/tmp/pip-build-env-t8z7h0ym/overlay/lib/python3.10/site-packages/setuptools/build_meta.py\", line 318, in run_setup\n",
      "  \u001b[31m   \u001b[0m     exec(code, locals())\n",
      "  \u001b[31m   \u001b[0m   File \"<string>\", line 155, in <module>\n",
      "  \u001b[31m   \u001b[0m   File \"<string>\", line 49, in get_config_posix\n",
      "  \u001b[31m   \u001b[0m   File \"<string>\", line 28, in find_package_name\n",
      "  \u001b[31m   \u001b[0m Exception: Can not find valid pkg-config name.\n",
      "  \u001b[31m   \u001b[0m Specify MYSQLCLIENT_CFLAGS and MYSQLCLIENT_LDFLAGS env vars manually\n",
      "  \u001b[31m   \u001b[0m \u001b[31m[end of output]\u001b[0m\n",
      "  \n",
      "  \u001b[1;35mnote\u001b[0m: This error originates from a subprocess, and is likely not a problem with pip.\n",
      "\u001b[1;31merror\u001b[0m: \u001b[1msubprocess-exited-with-error\u001b[0m\n",
      "\n",
      "\u001b[31m×\u001b[0m \u001b[32mGetting requirements to build wheel\u001b[0m did not run successfully.\n",
      "\u001b[31m│\u001b[0m exit code: \u001b[1;36m1\u001b[0m\n",
      "\u001b[31m╰─>\u001b[0m See above for output.\n",
      "\n",
      "\u001b[1;35mnote\u001b[0m: This error originates from a subprocess, and is likely not a problem with pip.\n",
      "\u001b[?25h"
     ]
    }
   ],
   "source": [
    "! pip install mysql"
   ]
  },
  {
   "cell_type": "code",
   "execution_count": 3,
   "id": "268537f7-0331-4b70-bde4-4d1275cb005e",
   "metadata": {
    "tags": []
   },
   "outputs": [
    {
     "name": "stdout",
     "output_type": "stream",
     "text": [
      "\u001b[33mWARNING: Skipping mysql as it is not installed.\u001b[0m\u001b[33m\n",
      "\u001b[0m"
     ]
    }
   ],
   "source": [
    "!pip uninstall mysql -y"
   ]
  },
  {
   "cell_type": "code",
   "execution_count": 4,
   "id": "a9b6c97a-bc81-4dc2-a1a4-52fda0800741",
   "metadata": {
    "tags": []
   },
   "outputs": [
    {
     "name": "stdout",
     "output_type": "stream",
     "text": [
      "Collecting mysql-connector-python\n",
      "  Downloading mysql_connector_python-9.1.0-cp310-cp310-manylinux_2_28_x86_64.whl.metadata (6.0 kB)\n",
      "Downloading mysql_connector_python-9.1.0-cp310-cp310-manylinux_2_28_x86_64.whl (34.4 MB)\n",
      "\u001b[2K   \u001b[90m━━━━━━━━━━━━━━━━━━━━━━━━━━━━━━━━━━━━━━━━\u001b[0m \u001b[32m34.4/34.4 MB\u001b[0m \u001b[31m124.5 MB/s\u001b[0m eta \u001b[36m0:00:00\u001b[0m00:01\u001b[0m\n",
      "\u001b[?25hInstalling collected packages: mysql-connector-python\n",
      "Successfully installed mysql-connector-python-9.1.0\n"
     ]
    }
   ],
   "source": [
    "!pip install mysql-connector-python"
   ]
  },
  {
   "cell_type": "code",
   "execution_count": 10,
   "id": "e69c2b0c-ca5b-429d-b60e-5c5f268019a5",
   "metadata": {
    "tags": []
   },
   "outputs": [
    {
     "name": "stdout",
     "output_type": "stream",
     "text": [
      "Start time: 2024-10-18 09:41:42.589002\n",
      "Connected to MySQL database\n",
      "Processing file: 8j9f_c4hd_.parquet\n",
      "Inserted 1 rows into MySQL\n",
      "Processing file: i1qp_3mdc_.parquet\n",
      "Inserted 1 rows into MySQL\n",
      "Processing file: yk53_av8o_.parquet\n",
      "Inserted 1 rows into MySQL\n",
      "MySQL connection is closed\n",
      "End time: 2024-10-18 09:41:45.237440\n",
      "Elapsed time: 0:00:02.648438\n"
     ]
    }
   ],
   "source": [
    "import pandas as pd\n",
    "import pyarrow.parquet as pq\n",
    "from google.cloud import storage\n",
    "from google.oauth2 import service_account\n",
    "import mysql.connector\n",
    "from mysql.connector import Error\n",
    "import io\n",
    "from datetime import datetime\n",
    "\n",
    "# GCS configuration\n",
    "gcp_bucket_name = \"myfirstproject-inputbucket\"\n",
    "gcp_credentials_path = \"double-balm-438113-f5-53067ace2784.json\"\n",
    "\n",
    "# MySQL configuration\n",
    "mysql_config = {\n",
    "    'host': '34.95.229.146',\n",
    "    'database': 'myindustry',\n",
    "    'user': 'professor',\n",
    "    'password': 'senha'\n",
    "}\n",
    "\n",
    "def get_gcs_client():\n",
    "    credentials = service_account.Credentials.from_service_account_file(gcp_credentials_path)\n",
    "    return storage.Client(credentials=credentials)\n",
    "\n",
    "def read_parquet_from_gcs(bucket, blob_name):\n",
    "    blob = bucket.blob(blob_name)\n",
    "    buffer = io.BytesIO()\n",
    "    blob.download_to_file(buffer)\n",
    "    buffer.seek(0)\n",
    "    return pq.read_table(buffer).to_pandas()\n",
    "\n",
    "def insert_data_to_mysql(connection, df):\n",
    "    cursor = connection.cursor()\n",
    "    \n",
    "    # Create table if not exists\n",
    "    create_table_query = \"\"\"\n",
    "    CREATE TABLE IF NOT EXISTS event_data (\n",
    "        day INT,\n",
    "        month INT,\n",
    "        year INT,\n",
    "        tenantId VARCHAR(255),\n",
    "        eventType VARCHAR(255),\n",
    "        eventId VARCHAR(255),\n",
    "        temperature FLOAT,\n",
    "        relativeHumidity FLOAT,\n",
    "        updateTime DATETIME,\n",
    "        deviceId VARCHAR(255),\n",
    "        projectId VARCHAR(255),\n",
    "        deviceType VARCHAR(255),\n",
    "        productNumber VARCHAR(255)\n",
    "    )\n",
    "    \"\"\"\n",
    "    cursor.execute(create_table_query)\n",
    "    \n",
    "    # Insert data\n",
    "    insert_query = \"\"\"\n",
    "    INSERT INTO event_data (\n",
    "        day, month, year, tenantId, eventType, eventId, \n",
    "        temperature, relativeHumidity, updateTime,\n",
    "        deviceId, projectId, deviceType, productNumber\n",
    "    ) VALUES (%s, %s, %s, %s, %s, %s, %s, %s, %s, %s, %s, %s, %s)\n",
    "    \"\"\"\n",
    "    \n",
    "    for _, row in df.iterrows():\n",
    "        data = (\n",
    "            row['day'], row['month'], row['year'],\n",
    "            row['tenantId'], row['eventType'], row['eventId'],\n",
    "            row['data']['event']['data']['humidity']['temperature'],\n",
    "            row['data']['event']['data']['humidity']['relativeHumidity'],\n",
    "            row['data']['event']['data']['humidity']['updateTime'],\n",
    "            row['data']['metadata']['deviceId'],\n",
    "            row['data']['metadata']['projectId'],\n",
    "            row['data']['metadata']['deviceType'],\n",
    "            row['data']['metadata']['productNumber']\n",
    "        )\n",
    "        cursor.execute(insert_query, data)\n",
    "    \n",
    "    connection.commit()\n",
    "    print(f\"Inserted {len(df)} rows into MySQL\")\n",
    "\n",
    "def main():\n",
    "    storage_client = get_gcs_client()\n",
    "    bucket = storage_client.bucket(gcp_bucket_name)\n",
    "    \n",
    "    connection = None\n",
    "    try:\n",
    "        connection = mysql.connector.connect(**mysql_config)\n",
    "        if connection.is_connected():\n",
    "            print(\"Connected to MySQL database\")\n",
    "            \n",
    "            # List all blobs in the bucket\n",
    "            blobs = bucket.list_blobs()\n",
    "            \n",
    "            for blob in blobs:\n",
    "                if blob.name.endswith('.parquet'):\n",
    "                    print(f\"Processing file: {blob.name}\")\n",
    "                    df = read_parquet_from_gcs(bucket, blob.name)\n",
    "                    insert_data_to_mysql(connection, df)\n",
    "            \n",
    "    except Error as e:\n",
    "        print(f\"Error while connecting to MySQL: {e}\")\n",
    "    finally:\n",
    "        if connection is not None and connection.is_connected():\n",
    "            connection.close()\n",
    "            print(\"MySQL connection is closed\")\n",
    "\n",
    "if __name__ == \"__main__\":\n",
    "    start_time = datetime.now()\n",
    "    print(f\"Start time: {start_time}\")\n",
    "    \n",
    "    main()\n",
    "    \n",
    "    end_time = datetime.now()\n",
    "    print(f\"End time: {end_time}\")\n",
    "    print(f\"Elapsed time: {end_time - start_time}\")"
   ]
  },
  {
   "cell_type": "code",
   "execution_count": 8,
   "id": "3da8a9de-bc43-4f33-bb16-933a19b78b28",
   "metadata": {
    "tags": []
   },
   "outputs": [
    {
     "name": "stdout",
     "output_type": "stream",
     "text": [
      "nc: connect to 34.95.229.146 port 3306 (tcp) failed: Connection timed out\n"
     ]
    }
   ],
   "source": [
    "!nc -zv 34.95.229.146 3306"
   ]
  },
  {
   "cell_type": "code",
   "execution_count": 9,
   "id": "d0f14736-95b1-4d58-b2ba-15a176d320ae",
   "metadata": {
    "tags": []
   },
   "outputs": [
    {
     "name": "stdout",
     "output_type": "stream",
     "text": [
      "34.95.176.129"
     ]
    }
   ],
   "source": [
    "!curl ifconfig.me"
   ]
  },
  {
   "cell_type": "code",
   "execution_count": null,
   "id": "05f8d738-fd1f-47d5-b288-f06ba6d0f230",
   "metadata": {},
   "outputs": [],
   "source": []
  }
 ],
 "metadata": {
  "environment": {
   "kernel": "python3",
   "name": "common-cu113.m125",
   "type": "gcloud",
   "uri": "us-docker.pkg.dev/deeplearning-platform-release/gcr.io/base-cu113:m125"
  },
  "kernelspec": {
   "display_name": "Python 3 (Local)",
   "language": "python",
   "name": "python3"
  },
  "language_info": {
   "codemirror_mode": {
    "name": "ipython",
    "version": 3
   },
   "file_extension": ".py",
   "mimetype": "text/x-python",
   "name": "python",
   "nbconvert_exporter": "python",
   "pygments_lexer": "ipython3",
   "version": "3.10.15"
  }
 },
 "nbformat": 4,
 "nbformat_minor": 5
}
